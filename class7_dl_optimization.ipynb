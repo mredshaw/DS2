{
 "cells": [
  {
   "cell_type": "code",
   "execution_count": 1,
   "metadata": {},
   "outputs": [],
   "source": [
    "import pandas as pd\n",
    "import tensorflow as tf\n",
    "import numpy as np\n",
    "import matplotlib.pyplot as plt"
   ]
  },
  {
   "cell_type": "code",
   "execution_count": 2,
   "metadata": {},
   "outputs": [
    {
     "name": "stdout",
     "output_type": "stream",
     "text": [
      "Collecting tensorflow_datasets\n",
      "  Downloading tensorflow_datasets-4.9.3-py3-none-any.whl.metadata (9.3 kB)\n",
      "Requirement already satisfied: absl-py in /Library/Frameworks/Python.framework/Versions/3.11/lib/python3.11/site-packages (from tensorflow_datasets) (2.0.0)\n",
      "Collecting array-record (from tensorflow_datasets)\n",
      "  Downloading array_record-0.4.1-py310-none-any.whl.metadata (503 bytes)\n",
      "Requirement already satisfied: click in /Library/Frameworks/Python.framework/Versions/3.11/lib/python3.11/site-packages (from tensorflow_datasets) (8.1.5)\n",
      "Collecting dm-tree (from tensorflow_datasets)\n",
      "  Downloading dm_tree-0.1.8-cp311-cp311-macosx_11_0_arm64.whl (110 kB)\n",
      "\u001b[2K     \u001b[90m━━━━━━━━━━━━━━━━━━━━━━━━━━━━━━━━━━━━━━━\u001b[0m \u001b[32m110.7/110.7 kB\u001b[0m \u001b[31m4.5 MB/s\u001b[0m eta \u001b[36m0:00:00\u001b[0m\n",
      "\u001b[?25hCollecting etils>=0.9.0 (from etils[enp,epath,etree]>=0.9.0->tensorflow_datasets)\n",
      "  Downloading etils-1.5.2-py3-none-any.whl.metadata (6.3 kB)\n",
      "Requirement already satisfied: numpy in /Library/Frameworks/Python.framework/Versions/3.11/lib/python3.11/site-packages (from tensorflow_datasets) (1.24.3)\n",
      "Collecting promise (from tensorflow_datasets)\n",
      "  Downloading promise-2.3.tar.gz (19 kB)\n",
      "  Preparing metadata (setup.py) ... \u001b[?25ldone\n",
      "\u001b[?25hRequirement already satisfied: protobuf>=3.20 in /Library/Frameworks/Python.framework/Versions/3.11/lib/python3.11/site-packages (from tensorflow_datasets) (4.24.4)\n",
      "Requirement already satisfied: psutil in /Users/mikeredshaw/Library/Python/3.11/lib/python/site-packages (from tensorflow_datasets) (5.9.5)\n",
      "Requirement already satisfied: requests>=2.19.0 in /Library/Frameworks/Python.framework/Versions/3.11/lib/python3.11/site-packages (from tensorflow_datasets) (2.31.0)\n",
      "Collecting tensorflow-metadata (from tensorflow_datasets)\n",
      "  Downloading tensorflow_metadata-1.14.0-py3-none-any.whl.metadata (2.1 kB)\n",
      "Requirement already satisfied: termcolor in /Library/Frameworks/Python.framework/Versions/3.11/lib/python3.11/site-packages (from tensorflow_datasets) (2.3.0)\n",
      "Requirement already satisfied: toml in /Library/Frameworks/Python.framework/Versions/3.11/lib/python3.11/site-packages (from tensorflow_datasets) (0.10.2)\n",
      "Requirement already satisfied: tqdm in /Library/Frameworks/Python.framework/Versions/3.11/lib/python3.11/site-packages (from tensorflow_datasets) (4.66.1)\n",
      "Requirement already satisfied: wrapt in /Library/Frameworks/Python.framework/Versions/3.11/lib/python3.11/site-packages (from tensorflow_datasets) (1.14.1)\n",
      "Requirement already satisfied: fsspec in /Library/Frameworks/Python.framework/Versions/3.11/lib/python3.11/site-packages (from etils[enp,epath,etree]>=0.9.0->tensorflow_datasets) (2023.9.2)\n",
      "Requirement already satisfied: importlib_resources in /Library/Frameworks/Python.framework/Versions/3.11/lib/python3.11/site-packages (from etils[enp,epath,etree]>=0.9.0->tensorflow_datasets) (6.1.0)\n",
      "Requirement already satisfied: typing_extensions in /Library/Frameworks/Python.framework/Versions/3.11/lib/python3.11/site-packages (from etils[enp,epath,etree]>=0.9.0->tensorflow_datasets) (4.8.0)\n",
      "Requirement already satisfied: zipp in /Library/Frameworks/Python.framework/Versions/3.11/lib/python3.11/site-packages (from etils[enp,epath,etree]>=0.9.0->tensorflow_datasets) (3.16.2)\n",
      "Requirement already satisfied: charset-normalizer<4,>=2 in /Library/Frameworks/Python.framework/Versions/3.11/lib/python3.11/site-packages (from requests>=2.19.0->tensorflow_datasets) (3.2.0)\n",
      "Requirement already satisfied: idna<4,>=2.5 in /Library/Frameworks/Python.framework/Versions/3.11/lib/python3.11/site-packages (from requests>=2.19.0->tensorflow_datasets) (3.4)\n",
      "Requirement already satisfied: urllib3<3,>=1.21.1 in /Library/Frameworks/Python.framework/Versions/3.11/lib/python3.11/site-packages (from requests>=2.19.0->tensorflow_datasets) (1.26.18)\n",
      "Requirement already satisfied: certifi>=2017.4.17 in /Library/Frameworks/Python.framework/Versions/3.11/lib/python3.11/site-packages (from requests>=2.19.0->tensorflow_datasets) (2023.5.7)\n",
      "Requirement already satisfied: six in /Users/mikeredshaw/Library/Python/3.11/lib/python/site-packages (from promise->tensorflow_datasets) (1.16.0)\n",
      "Collecting absl-py (from tensorflow_datasets)\n",
      "  Downloading absl_py-1.4.0-py3-none-any.whl (126 kB)\n",
      "\u001b[2K     \u001b[90m━━━━━━━━━━━━━━━━━━━━━━━━━━━━━━━━━━━━━━\u001b[0m \u001b[32m126.5/126.5 kB\u001b[0m \u001b[31m12.6 MB/s\u001b[0m eta \u001b[36m0:00:00\u001b[0m\n",
      "\u001b[?25hCollecting googleapis-common-protos<2,>=1.52.0 (from tensorflow-metadata->tensorflow_datasets)\n",
      "  Downloading googleapis_common_protos-1.61.0-py2.py3-none-any.whl.metadata (1.5 kB)\n",
      "Collecting protobuf>=3.20 (from tensorflow_datasets)\n",
      "  Downloading protobuf-3.20.3-py2.py3-none-any.whl (162 kB)\n",
      "\u001b[2K     \u001b[90m━━━━━━━━━━━━━━━━━━━━━━━━━━━━━━━━━━━━━━\u001b[0m \u001b[32m162.1/162.1 kB\u001b[0m \u001b[31m19.3 MB/s\u001b[0m eta \u001b[36m0:00:00\u001b[0m\n",
      "\u001b[?25hDownloading tensorflow_datasets-4.9.3-py3-none-any.whl (5.0 MB)\n",
      "\u001b[2K   \u001b[90m━━━━━━━━━━━━━━━━━━━━━━━━━━━━━━━━━━━━━━━━\u001b[0m \u001b[32m5.0/5.0 MB\u001b[0m \u001b[31m8.4 MB/s\u001b[0m eta \u001b[36m0:00:00\u001b[0m00:01\u001b[0m00:01\u001b[0mm\n",
      "\u001b[?25hDownloading etils-1.5.2-py3-none-any.whl (140 kB)\n",
      "\u001b[2K   \u001b[90m━━━━━━━━━━━━━━━━━━━━━━━━━━━━━━━━━━━━━━━━\u001b[0m \u001b[32m140.6/140.6 kB\u001b[0m \u001b[31m5.5 MB/s\u001b[0m eta \u001b[36m0:00:00\u001b[0m\n",
      "\u001b[?25hDownloading array_record-0.4.1-py310-none-any.whl (3.0 MB)\n",
      "\u001b[2K   \u001b[90m━━━━━━━━━━━━━━━━━━━━━━━━━━━━━━━━━━━━━━━━\u001b[0m \u001b[32m3.0/3.0 MB\u001b[0m \u001b[31m6.6 MB/s\u001b[0m eta \u001b[36m0:00:00\u001b[0m00:01\u001b[0m00:01\u001b[0m\n",
      "\u001b[?25hDownloading tensorflow_metadata-1.14.0-py3-none-any.whl (28 kB)\n",
      "Downloading googleapis_common_protos-1.61.0-py2.py3-none-any.whl (230 kB)\n",
      "\u001b[2K   \u001b[90m━━━━━━━━━━━━━━━━━━━━━━━━━━━━━━━━━━━━━━━━\u001b[0m \u001b[32m230.9/230.9 kB\u001b[0m \u001b[31m5.7 MB/s\u001b[0m eta \u001b[36m0:00:00\u001b[0m00:01\u001b[0m\n",
      "\u001b[?25hBuilding wheels for collected packages: promise\n",
      "  Building wheel for promise (setup.py) ... \u001b[?25ldone\n",
      "\u001b[?25h  Created wheel for promise: filename=promise-2.3-py3-none-any.whl size=21483 sha256=78c5477c8cbb0e5f2ea7ea25e0e2f445e7df36779014a7f7211e60a3bd1d3819\n",
      "  Stored in directory: /Users/mikeredshaw/Library/Caches/pip/wheels/90/74/b1/9b54c896b8d9409e9268329d4d45ede8a8040abe91c8879932\n",
      "Successfully built promise\n",
      "Installing collected packages: dm-tree, protobuf, promise, etils, absl-py, googleapis-common-protos, tensorflow-metadata, array-record, tensorflow_datasets\n",
      "  Attempting uninstall: protobuf\n",
      "    Found existing installation: protobuf 4.24.4\n",
      "    Uninstalling protobuf-4.24.4:\n",
      "      Successfully uninstalled protobuf-4.24.4\n",
      "  Attempting uninstall: absl-py\n",
      "    Found existing installation: absl-py 2.0.0\n",
      "    Uninstalling absl-py-2.0.0:\n",
      "      Successfully uninstalled absl-py-2.0.0\n",
      "Successfully installed absl-py-1.4.0 array-record-0.4.1 dm-tree-0.1.8 etils-1.5.2 googleapis-common-protos-1.61.0 promise-2.3 protobuf-3.20.3 tensorflow-metadata-1.14.0 tensorflow_datasets-4.9.3\n",
      "Note: you may need to restart the kernel to use updated packages.\n"
     ]
    }
   ],
   "source": [
    "pip install tensorflow_datasets"
   ]
  },
  {
   "cell_type": "code",
   "execution_count": 3,
   "metadata": {},
   "outputs": [
    {
     "name": "stderr",
     "output_type": "stream",
     "text": [
      "/Library/Frameworks/Python.framework/Versions/3.11/lib/python3.11/site-packages/tqdm/auto.py:21: TqdmWarning: IProgress not found. Please update jupyter and ipywidgets. See https://ipywidgets.readthedocs.io/en/stable/user_install.html\n",
      "  from .autonotebook import tqdm as notebook_tqdm\n"
     ]
    }
   ],
   "source": [
    "import tensorflow_datasets as tfds"
   ]
  },
  {
   "cell_type": "code",
   "execution_count": 4,
   "metadata": {},
   "outputs": [
    {
     "name": "stderr",
     "output_type": "stream",
     "text": [
      "2023-11-15 05:42:31.285882: W tensorflow/tsl/platform/cloud/google_auth_provider.cc:184] All attempts to get a Google authentication bearer token failed, returning an empty token. Retrieving token from files failed with \"NOT_FOUND: Could not locate the credentials file.\". Retrieving token from GCE failed with \"FAILED_PRECONDITION: Error executing an HTTP request: libcurl code 6 meaning 'Couldn't resolve host name', error details: Could not resolve host: metadata.google.internal\".\n"
     ]
    },
    {
     "name": "stdout",
     "output_type": "stream",
     "text": [
      "\u001b[1mDownloading and preparing dataset 11.06 MiB (download: 11.06 MiB, generated: 21.00 MiB, total: 32.06 MiB) to /Users/mikeredshaw/tensorflow_datasets/mnist/3.0.1...\u001b[0m\n"
     ]
    },
    {
     "name": "stderr",
     "output_type": "stream",
     "text": [
      "Dl Completed...: 100%|██████████| 5/5 [00:03<00:00,  1.30 file/s]"
     ]
    },
    {
     "name": "stdout",
     "output_type": "stream",
     "text": [
      "\u001b[1mDataset mnist downloaded and prepared to /Users/mikeredshaw/tensorflow_datasets/mnist/3.0.1. Subsequent calls will reuse this data.\u001b[0m\n"
     ]
    },
    {
     "name": "stderr",
     "output_type": "stream",
     "text": [
      "\n"
     ]
    }
   ],
   "source": [
    "(train, test) = tfds.load('mnist',\n",
    "                                split = ['train','test'])"
   ]
  },
  {
   "cell_type": "code",
   "execution_count": 5,
   "metadata": {},
   "outputs": [
    {
     "data": {
      "text/plain": [
       "<_PrefetchDataset element_spec={'image': TensorSpec(shape=(28, 28, 1), dtype=tf.uint8, name=None), 'label': TensorSpec(shape=(), dtype=tf.int64, name=None)}>"
      ]
     },
     "execution_count": 5,
     "metadata": {},
     "output_type": "execute_result"
    }
   ],
   "source": [
    "train"
   ]
  },
  {
   "cell_type": "code",
   "execution_count": 6,
   "metadata": {},
   "outputs": [
    {
     "data": {
      "text/plain": [
       "<_PrefetchDataset element_spec={'image': TensorSpec(shape=(28, 28, 1), dtype=tf.uint8, name=None), 'label': TensorSpec(shape=(), dtype=tf.int64, name=None)}>"
      ]
     },
     "execution_count": 6,
     "metadata": {},
     "output_type": "execute_result"
    }
   ],
   "source": [
    "test"
   ]
  },
  {
   "cell_type": "code",
   "execution_count": 7,
   "metadata": {},
   "outputs": [],
   "source": [
    "from sklearn.preprocessing import StandardScaler\n",
    "from sklearn.preprocessing import OneHotEncoder\n",
    "\n",
    "def load_dataset(train_size, test_size):\n",
    "    train, test = tf.keras.datasets.mnist.load_data()\n",
    "\n",
    "    # take a sample\n",
    "    train_idx = np.random.randint(low=0, high=train[0].shape[0], size=train_size)\n",
    "    test_idx = np.random.randint(low=0, high=test[0].shape[0], size=test_size)\n",
    "    X_train = train[0][train_idx].reshape(-1,28*28)\n",
    "    y_train = train[1][train_idx].reshape(-1,1)\n",
    "    X_test = test[0][test_idx].reshape(-1,28*28)\n",
    "    y_test = test[1][test_idx].reshape(-1,1)\n",
    "\n",
    "    scale = StandardScaler()\n",
    "    X_train = scale.fit_transform(X_train)\n",
    "    X_test = scale.transform(X_test)\n",
    "\n",
    "    OH = OneHotEncoder(categories='auto', sparse=False)\n",
    "    y_train = OH.fit_transform(y_train)\n",
    "    y_test = OH.transform(y_test)\n",
    "\n",
    "    print('X_train:',X_train.shape)\n",
    "    print('y_train:',y_train.shape)\n",
    "    print('X_test:',X_test.shape)\n",
    "    print('y_test:',y_test.shape)\n",
    "    print('Min:', X_train.min())\n",
    "    print('Max:', X_train.max())\n",
    "\n",
    "    return X_train, X_test, y_train, y_test\n"
   ]
  },
  {
   "cell_type": "code",
   "execution_count": 8,
   "metadata": {},
   "outputs": [
    {
     "name": "stdout",
     "output_type": "stream",
     "text": [
      "X_train: (60000, 784)\n",
      "y_train: (60000, 10)\n",
      "X_test: (10000, 784)\n",
      "y_test: (10000, 10)\n",
      "Min: -1.2692813895813595\n",
      "Max: 244.94693302866423\n"
     ]
    },
    {
     "name": "stderr",
     "output_type": "stream",
     "text": [
      "/Library/Frameworks/Python.framework/Versions/3.11/lib/python3.11/site-packages/sklearn/preprocessing/_encoders.py:972: FutureWarning: `sparse` was renamed to `sparse_output` in version 1.2 and will be removed in 1.4. `sparse_output` is ignored unless you leave `sparse` to its default value.\n",
      "  warnings.warn(\n"
     ]
    }
   ],
   "source": [
    "X_train, X_test, y_train, y_test = load_dataset(60000,10000)"
   ]
  },
  {
   "cell_type": "markdown",
   "metadata": {},
   "source": [
    "### Optimizing at the Initialization Stage"
   ]
  },
  {
   "cell_type": "code",
   "execution_count": 9,
   "metadata": {},
   "outputs": [],
   "source": [
    "from tensorflow.keras import layers"
   ]
  },
  {
   "cell_type": "code",
   "execution_count": 10,
   "metadata": {},
   "outputs": [],
   "source": [
    "def simple_model(initializer, activation='relu'):\n",
    "    return tf.keras.Sequential([layers.Dense(32, activation, input_shape=(784,), kernel_initializer=initializer),\n",
    "                                layers.Dense(32, activation, kernel_initializer=initializer),\n",
    "                                layers.Dense(32, activation, kernel_initializer=initializer),\n",
    "                                layers.Dense(32, activation, kernel_initializer=initializer),\n",
    "                                layers.Dense(10, activation = 'softmax', kernel_initializer=tf.keras.initializers.glorot_normal())\n",
    "    ])"
   ]
  },
  {
   "cell_type": "code",
   "execution_count": 11,
   "metadata": {},
   "outputs": [
    {
     "name": "stderr",
     "output_type": "stream",
     "text": [
      "WARNING:absl:At this time, the v2.11+ optimizer `tf.keras.optimizers.SGD` runs slowly on M1/M2 Macs, please use the legacy Keras optimizer instead, located at `tf.keras.optimizers.legacy.SGD`.\n"
     ]
    },
    {
     "name": "stdout",
     "output_type": "stream",
     "text": [
      "Epoch 1/10\n",
      "19/19 [==============================] - 0s 8ms/step - loss: 2.3026 - accuracy: 0.1128 - val_loss: 2.3025 - val_accuracy: 0.1108\n",
      "Epoch 2/10\n",
      "19/19 [==============================] - 0s 5ms/step - loss: 2.3025 - accuracy: 0.1134 - val_loss: 2.3025 - val_accuracy: 0.1108\n",
      "Epoch 3/10\n",
      "19/19 [==============================] - 0s 5ms/step - loss: 2.3024 - accuracy: 0.1134 - val_loss: 2.3024 - val_accuracy: 0.1108\n",
      "Epoch 4/10\n",
      "19/19 [==============================] - 0s 5ms/step - loss: 2.3024 - accuracy: 0.1134 - val_loss: 2.3024 - val_accuracy: 0.1108\n",
      "Epoch 5/10\n",
      "19/19 [==============================] - 0s 5ms/step - loss: 2.3023 - accuracy: 0.1134 - val_loss: 2.3023 - val_accuracy: 0.1108\n",
      "Epoch 6/10\n",
      "19/19 [==============================] - 0s 5ms/step - loss: 2.3023 - accuracy: 0.1134 - val_loss: 2.3023 - val_accuracy: 0.1108\n",
      "Epoch 7/10\n",
      "19/19 [==============================] - 0s 5ms/step - loss: 2.3022 - accuracy: 0.1134 - val_loss: 2.3023 - val_accuracy: 0.1108\n",
      "Epoch 8/10\n",
      "19/19 [==============================] - 0s 5ms/step - loss: 2.3022 - accuracy: 0.1134 - val_loss: 2.3022 - val_accuracy: 0.1108\n",
      "Epoch 9/10\n",
      "19/19 [==============================] - 0s 6ms/step - loss: 2.3021 - accuracy: 0.1134 - val_loss: 2.3022 - val_accuracy: 0.1108\n",
      "Epoch 10/10\n",
      "19/19 [==============================] - 0s 5ms/step - loss: 2.3021 - accuracy: 0.1134 - val_loss: 2.3021 - val_accuracy: 0.1108\n"
     ]
    },
    {
     "data": {
      "text/plain": [
       "<keras.src.callbacks.History at 0x2d1cdfa50>"
      ]
     },
     "execution_count": 11,
     "metadata": {},
     "output_type": "execute_result"
    }
   ],
   "source": [
    "init = tf.initializers.zeros()\n",
    "activate = 'relu'\n",
    "optimizer = tf.keras.optimizers.SGD(learning_rate=0.01)\n",
    "model_zeros = simple_model(init, activate)\n",
    "model_zeros.compile(optimizer=optimizer, loss='categorical_crossentropy', metrics=['accuracy'])\n",
    "model_zeros.fit(X_train, y_train, epochs=10, batch_size=3200, validation_data=(X_test, y_test))"
   ]
  },
  {
   "cell_type": "code",
   "execution_count": null,
   "metadata": {},
   "outputs": [],
   "source": []
  },
  {
   "cell_type": "code",
   "execution_count": 12,
   "metadata": {},
   "outputs": [
    {
     "name": "stderr",
     "output_type": "stream",
     "text": [
      "WARNING:absl:At this time, the v2.11+ optimizer `tf.keras.optimizers.SGD` runs slowly on M1/M2 Macs, please use the legacy Keras optimizer instead, located at `tf.keras.optimizers.legacy.SGD`.\n"
     ]
    },
    {
     "name": "stdout",
     "output_type": "stream",
     "text": [
      "Epoch 1/10\n"
     ]
    },
    {
     "name": "stderr",
     "output_type": "stream",
     "text": [
      "/Library/Frameworks/Python.framework/Versions/3.11/lib/python3.11/site-packages/keras/src/initializers/initializers.py:120: UserWarning: The initializer RandomNormal is unseeded and being called multiple times, which will return identical values each time (even if the initializer is unseeded). Please update your code to provide a seed to the initializer, or avoid using the same initializer instance more than once.\n",
      "  warnings.warn(\n"
     ]
    },
    {
     "name": "stdout",
     "output_type": "stream",
     "text": [
      "19/19 [==============================] - 0s 9ms/step - loss: 2.3024 - accuracy: 0.0985 - val_loss: 2.3020 - val_accuracy: 0.1028\n",
      "Epoch 2/10\n",
      "19/19 [==============================] - 0s 5ms/step - loss: 2.3019 - accuracy: 0.1195 - val_loss: 2.3016 - val_accuracy: 0.1365\n",
      "Epoch 3/10\n",
      "19/19 [==============================] - 0s 5ms/step - loss: 2.3015 - accuracy: 0.1621 - val_loss: 2.3012 - val_accuracy: 0.1776\n",
      "Epoch 4/10\n",
      "19/19 [==============================] - 0s 5ms/step - loss: 2.3012 - accuracy: 0.1840 - val_loss: 2.3008 - val_accuracy: 0.1935\n",
      "Epoch 5/10\n",
      "19/19 [==============================] - 0s 5ms/step - loss: 2.3008 - accuracy: 0.1905 - val_loss: 2.3005 - val_accuracy: 0.1928\n",
      "Epoch 6/10\n",
      "19/19 [==============================] - 0s 5ms/step - loss: 2.3004 - accuracy: 0.1879 - val_loss: 2.3002 - val_accuracy: 0.1866\n",
      "Epoch 7/10\n",
      "19/19 [==============================] - 0s 5ms/step - loss: 2.3001 - accuracy: 0.1813 - val_loss: 2.2998 - val_accuracy: 0.1857\n",
      "Epoch 8/10\n",
      "19/19 [==============================] - 0s 7ms/step - loss: 2.2997 - accuracy: 0.1779 - val_loss: 2.2995 - val_accuracy: 0.1784\n",
      "Epoch 9/10\n",
      "19/19 [==============================] - 0s 6ms/step - loss: 2.2993 - accuracy: 0.1740 - val_loss: 2.2991 - val_accuracy: 0.1730\n",
      "Epoch 10/10\n",
      "19/19 [==============================] - 0s 6ms/step - loss: 2.2990 - accuracy: 0.1687 - val_loss: 2.2988 - val_accuracy: 0.1685\n"
     ]
    },
    {
     "data": {
      "text/plain": [
       "<keras.src.callbacks.History at 0x2d297e8d0>"
      ]
     },
     "execution_count": 12,
     "metadata": {},
     "output_type": "execute_result"
    }
   ],
   "source": [
    "init = tf.initializers.random_normal()\n",
    "activate = 'relu'\n",
    "optimizer = tf.keras.optimizers.SGD(learning_rate=0.01)\n",
    "model_normal = simple_model(init, activate)\n",
    "model_normal.compile(optimizer=optimizer, loss='categorical_crossentropy', metrics=['accuracy'])\n",
    "model_normal.fit(X_train, y_train, epochs=10, batch_size=3200, validation_data=(X_test, y_test))"
   ]
  },
  {
   "cell_type": "code",
   "execution_count": 13,
   "metadata": {},
   "outputs": [
    {
     "name": "stderr",
     "output_type": "stream",
     "text": [
      "WARNING:absl:At this time, the v2.11+ optimizer `tf.keras.optimizers.SGD` runs slowly on M1/M2 Macs, please use the legacy Keras optimizer instead, located at `tf.keras.optimizers.legacy.SGD`.\n"
     ]
    },
    {
     "name": "stdout",
     "output_type": "stream",
     "text": [
      "Epoch 1/10\n"
     ]
    },
    {
     "name": "stderr",
     "output_type": "stream",
     "text": [
      "/Library/Frameworks/Python.framework/Versions/3.11/lib/python3.11/site-packages/keras/src/initializers/initializers.py:120: UserWarning: The initializer GlorotUniform is unseeded and being called multiple times, which will return identical values each time (even if the initializer is unseeded). Please update your code to provide a seed to the initializer, or avoid using the same initializer instance more than once.\n",
      "  warnings.warn(\n"
     ]
    },
    {
     "name": "stdout",
     "output_type": "stream",
     "text": [
      "19/19 [==============================] - 0s 8ms/step - loss: 2.3393 - accuracy: 0.0927 - val_loss: 2.3031 - val_accuracy: 0.0960\n",
      "Epoch 2/10\n",
      "19/19 [==============================] - 0s 6ms/step - loss: 2.2857 - accuracy: 0.1097 - val_loss: 2.2579 - val_accuracy: 0.1189\n",
      "Epoch 3/10\n",
      "19/19 [==============================] - 0s 6ms/step - loss: 2.2428 - accuracy: 0.1331 - val_loss: 2.2181 - val_accuracy: 0.1467\n",
      "Epoch 4/10\n",
      "19/19 [==============================] - 0s 5ms/step - loss: 2.2028 - accuracy: 0.1629 - val_loss: 2.1781 - val_accuracy: 0.1820\n",
      "Epoch 5/10\n",
      "19/19 [==============================] - 0s 5ms/step - loss: 2.1618 - accuracy: 0.2010 - val_loss: 2.1356 - val_accuracy: 0.2216\n",
      "Epoch 6/10\n",
      "19/19 [==============================] - 0s 5ms/step - loss: 2.1174 - accuracy: 0.2452 - val_loss: 2.0885 - val_accuracy: 0.2678\n",
      "Epoch 7/10\n",
      "19/19 [==============================] - 0s 5ms/step - loss: 2.0682 - accuracy: 0.2935 - val_loss: 2.0358 - val_accuracy: 0.3195\n",
      "Epoch 8/10\n",
      "19/19 [==============================] - 0s 5ms/step - loss: 2.0127 - accuracy: 0.3428 - val_loss: 1.9760 - val_accuracy: 0.3622\n",
      "Epoch 9/10\n",
      "19/19 [==============================] - 0s 5ms/step - loss: 1.9492 - accuracy: 0.3883 - val_loss: 1.9077 - val_accuracy: 0.4009\n",
      "Epoch 10/10\n",
      "19/19 [==============================] - 0s 5ms/step - loss: 1.8760 - accuracy: 0.4285 - val_loss: 1.8296 - val_accuracy: 0.4389\n"
     ]
    },
    {
     "data": {
      "text/plain": [
       "<keras.src.callbacks.History at 0x2d26d5010>"
      ]
     },
     "execution_count": 13,
     "metadata": {},
     "output_type": "execute_result"
    }
   ],
   "source": [
    "init = tf.initializers.glorot_uniform()\n",
    "activate = 'relu'\n",
    "optimizer = tf.keras.optimizers.SGD(learning_rate=0.01)\n",
    "model_glorotu = simple_model(init, activate)\n",
    "model_glorotu.compile(optimizer=optimizer, loss='categorical_crossentropy', metrics=['accuracy'])\n",
    "model_glorotu.fit(X_train, y_train, epochs=10, batch_size=3200, validation_data=(X_test, y_test))"
   ]
  },
  {
   "cell_type": "code",
   "execution_count": 14,
   "metadata": {},
   "outputs": [
    {
     "name": "stderr",
     "output_type": "stream",
     "text": [
      "WARNING:absl:At this time, the v2.11+ optimizer `tf.keras.optimizers.SGD` runs slowly on M1/M2 Macs, please use the legacy Keras optimizer instead, located at `tf.keras.optimizers.legacy.SGD`.\n"
     ]
    },
    {
     "name": "stdout",
     "output_type": "stream",
     "text": [
      "Epoch 1/10\n"
     ]
    },
    {
     "name": "stderr",
     "output_type": "stream",
     "text": [
      "/Library/Frameworks/Python.framework/Versions/3.11/lib/python3.11/site-packages/keras/src/initializers/initializers.py:120: UserWarning: The initializer HeUniform is unseeded and being called multiple times, which will return identical values each time (even if the initializer is unseeded). Please update your code to provide a seed to the initializer, or avoid using the same initializer instance more than once.\n",
      "  warnings.warn(\n"
     ]
    },
    {
     "name": "stdout",
     "output_type": "stream",
     "text": [
      "19/19 [==============================] - 0s 8ms/step - loss: 2.4323 - accuracy: 0.1203 - val_loss: 2.3052 - val_accuracy: 0.1497\n",
      "Epoch 2/10\n",
      "19/19 [==============================] - 0s 4ms/step - loss: 2.2453 - accuracy: 0.1811 - val_loss: 2.1739 - val_accuracy: 0.2189\n",
      "Epoch 3/10\n",
      "19/19 [==============================] - 0s 4ms/step - loss: 2.1260 - accuracy: 0.2492 - val_loss: 2.0606 - val_accuracy: 0.2818\n",
      "Epoch 4/10\n",
      "19/19 [==============================] - 0s 5ms/step - loss: 2.0125 - accuracy: 0.3144 - val_loss: 1.9448 - val_accuracy: 0.3438\n",
      "Epoch 5/10\n",
      "19/19 [==============================] - 0s 5ms/step - loss: 1.8954 - accuracy: 0.3768 - val_loss: 1.8256 - val_accuracy: 0.4068\n",
      "Epoch 6/10\n",
      "19/19 [==============================] - 0s 5ms/step - loss: 1.7758 - accuracy: 0.4331 - val_loss: 1.7056 - val_accuracy: 0.4603\n",
      "Epoch 7/10\n",
      "19/19 [==============================] - 0s 5ms/step - loss: 1.6552 - accuracy: 0.4810 - val_loss: 1.5850 - val_accuracy: 0.5118\n",
      "Epoch 8/10\n",
      "19/19 [==============================] - 0s 6ms/step - loss: 1.5347 - accuracy: 0.5337 - val_loss: 1.4657 - val_accuracy: 0.5642\n",
      "Epoch 9/10\n",
      "19/19 [==============================] - 0s 5ms/step - loss: 1.4161 - accuracy: 0.5843 - val_loss: 1.3503 - val_accuracy: 0.6149\n",
      "Epoch 10/10\n",
      "19/19 [==============================] - 0s 5ms/step - loss: 1.3021 - accuracy: 0.6345 - val_loss: 1.2394 - val_accuracy: 0.6616\n"
     ]
    },
    {
     "data": {
      "text/plain": [
       "<keras.src.callbacks.History at 0x2c2b3d010>"
      ]
     },
     "execution_count": 14,
     "metadata": {},
     "output_type": "execute_result"
    }
   ],
   "source": [
    "init = tf.initializers.he_uniform()\n",
    "activate = 'relu'\n",
    "optimizer = tf.keras.optimizers.SGD(learning_rate=0.01)\n",
    "model_heu = simple_model(init, activate)\n",
    "model_heu.compile(optimizer=optimizer, loss='categorical_crossentropy', metrics=['accuracy'])\n",
    "model_heu.fit(X_train, y_train, epochs=10, batch_size=3200, validation_data=(X_test, y_test))"
   ]
  },
  {
   "cell_type": "code",
   "execution_count": 15,
   "metadata": {},
   "outputs": [
    {
     "data": {
      "text/plain": [
       "Text(0, 0.5, 'Validation Accuracy')"
      ]
     },
     "execution_count": 15,
     "metadata": {},
     "output_type": "execute_result"
    },
    {
     "data": {
      "image/png": "[encoded data removed]",
      "text/plain": [
       "<Figure size 640x480 with 1 Axes>"
      ]
     },
     "metadata": {},
     "output_type": "display_data"
    }
   ],
   "source": [
    "for i in [model_heu, model_normal, model_glorotu, model_zeros]:\n",
    "    plt.plot(i.history.history['val_accuracy'], label=i.get_config()['layers'][1]['config']['kernel_initializer']['class_name'])\n",
    "\n",
    "plt.legend()\n",
    "plt.xlabel('Epoch')\n",
    "plt.ylabel('Validation Accuracy')"
   ]
  },
  {
   "cell_type": "code",
   "execution_count": 16,
   "metadata": {},
   "outputs": [],
   "source": [
    "def simple_model_bn(initializer = 'he_uniform', activation='relu'):\n",
    "    return tf.keras.Sequential([layers.Dense(32, activation, input_shape=(784,), kernel_initializer=initializer),\n",
    "                                layers.BatchNormalization(trainable=True, scale=True, center=True),\n",
    "                                layers.Dense(32, activation, kernel_initializer=initializer),\n",
    "                                layers.BatchNormalization(trainable=True, scale=True, center=True),\n",
    "                                layers.Dense(32, activation, kernel_initializer=initializer),\n",
    "                                layers.BatchNormalization(trainable=True, scale=True, center=True),\n",
    "                                layers.Dense(32, activation, kernel_initializer=initializer),\n",
    "                                layers.BatchNormalization(trainable=True, scale=True, center=True),\n",
    "                                layers.Dense(10, activation = 'softmax', kernel_initializer=tf.keras.initializers.glorot_normal())\n",
    "\n",
    "\n",
    "\n",
    "    ])"
   ]
  },
  {
   "cell_type": "code",
   "execution_count": 17,
   "metadata": {},
   "outputs": [
    {
     "name": "stdout",
     "output_type": "stream",
     "text": [
      "Model: \"sequential_4\"\n",
      "_________________________________________________________________\n",
      " Layer (type)                Output Shape              Param #   \n",
      "=================================================================\n",
      " dense_20 (Dense)            (None, 32)                25120     \n",
      "                                                                 \n",
      " batch_normalization (Batch  (None, 32)                128       \n",
      " Normalization)                                                  \n",
      "                                                                 \n",
      " dense_21 (Dense)            (None, 32)                1056      \n",
      "                                                                 \n",
      " batch_normalization_1 (Bat  (None, 32)                128       \n",
      " chNormalization)                                                \n",
      "                                                                 \n",
      " dense_22 (Dense)            (None, 32)                1056      \n",
      "                                                                 \n",
      " batch_normalization_2 (Bat  (None, 32)                128       \n",
      " chNormalization)                                                \n",
      "                                                                 \n",
      " dense_23 (Dense)            (None, 32)                1056      \n",
      "                                                                 \n",
      " batch_normalization_3 (Bat  (None, 32)                128       \n",
      " chNormalization)                                                \n",
      "                                                                 \n",
      " dense_24 (Dense)            (None, 10)                330       \n",
      "                                                                 \n",
      "=================================================================\n",
      "Total params: 29130 (113.79 KB)\n",
      "Trainable params: 28874 (112.79 KB)\n",
      "Non-trainable params: 256 (1.00 KB)\n",
      "_________________________________________________________________\n"
     ]
    }
   ],
   "source": [
    "simple_model_bn().summary()"
   ]
  },
  {
   "cell_type": "code",
   "execution_count": 18,
   "metadata": {},
   "outputs": [
    {
     "name": "stderr",
     "output_type": "stream",
     "text": [
      "WARNING:absl:At this time, the v2.11+ optimizer `tf.keras.optimizers.SGD` runs slowly on M1/M2 Macs, please use the legacy Keras optimizer instead, located at `tf.keras.optimizers.legacy.SGD`.\n"
     ]
    },
    {
     "name": "stdout",
     "output_type": "stream",
     "text": [
      "Epoch 1/10\n",
      "19/19 [==============================] - 1s 13ms/step - loss: 2.0387 - accuracy: 0.3421 - val_loss: 2.2935 - val_accuracy: 0.1603\n",
      "Epoch 2/10\n",
      "19/19 [==============================] - 0s 8ms/step - loss: 1.3262 - accuracy: 0.6026 - val_loss: 2.2797 - val_accuracy: 0.1201\n",
      "Epoch 3/10\n",
      "19/19 [==============================] - 0s 8ms/step - loss: 1.0210 - accuracy: 0.7038 - val_loss: 2.2602 - val_accuracy: 0.1186\n",
      "Epoch 4/10\n",
      "19/19 [==============================] - 0s 7ms/step - loss: 0.8454 - accuracy: 0.7585 - val_loss: 2.2340 - val_accuracy: 0.1401\n",
      "Epoch 5/10\n",
      "19/19 [==============================] - 0s 7ms/step - loss: 0.7325 - accuracy: 0.7922 - val_loss: 2.1994 - val_accuracy: 0.1720\n",
      "Epoch 6/10\n",
      "19/19 [==============================] - 0s 8ms/step - loss: 0.6530 - accuracy: 0.8161 - val_loss: 2.1551 - val_accuracy: 0.2523\n",
      "Epoch 7/10\n",
      "19/19 [==============================] - 0s 8ms/step - loss: 0.5963 - accuracy: 0.8316 - val_loss: 2.0997 - val_accuracy: 0.4080\n",
      "Epoch 8/10\n",
      "19/19 [==============================] - 0s 8ms/step - loss: 0.5516 - accuracy: 0.8446 - val_loss: 2.0310 - val_accuracy: 0.5672\n",
      "Epoch 9/10\n",
      "19/19 [==============================] - 0s 8ms/step - loss: 0.5162 - accuracy: 0.8557 - val_loss: 1.9474 - val_accuracy: 0.6779\n",
      "Epoch 10/10\n",
      "19/19 [==============================] - 0s 8ms/step - loss: 0.4872 - accuracy: 0.8644 - val_loss: 1.8489 - val_accuracy: 0.7434\n"
     ]
    },
    {
     "data": {
      "text/plain": [
       "<keras.src.callbacks.History at 0x2c22ade90>"
      ]
     },
     "execution_count": 18,
     "metadata": {},
     "output_type": "execute_result"
    }
   ],
   "source": [
    "init = tf.keras.initializers.random_normal()\n",
    "activate = 'relu'\n",
    "\n",
    "optimizer = tf.keras.optimizers.SGD(0.01)\n",
    "model_bn = simple_model_bn(init, activate)\n",
    "model_bn.compile(optimizer=optimizer, loss='categorical_crossentropy', metrics=['accuracy'])\n",
    "model_bn.fit(X_train, y_train, epochs=10, batch_size=3200, validation_data = (X_test, y_test))"
   ]
  },
  {
   "cell_type": "code",
   "execution_count": 19,
   "metadata": {},
   "outputs": [
    {
     "name": "stderr",
     "output_type": "stream",
     "text": [
      "WARNING:absl:At this time, the v2.11+ optimizer `tf.keras.optimizers.SGD` runs slowly on M1/M2 Macs, please use the legacy Keras optimizer instead, located at `tf.keras.optimizers.legacy.SGD`.\n"
     ]
    },
    {
     "name": "stdout",
     "output_type": "stream",
     "text": [
      "Epoch 1/10\n",
      "19/19 [==============================] - 1s 13ms/step - loss: 2.4790 - accuracy: 0.1744 - val_loss: 2.3704 - val_accuracy: 0.1549\n",
      "Epoch 2/10\n",
      "19/19 [==============================] - 0s 8ms/step - loss: 1.9752 - accuracy: 0.3530 - val_loss: 2.1558 - val_accuracy: 0.2665\n",
      "Epoch 3/10\n",
      "19/19 [==============================] - 0s 9ms/step - loss: 1.6780 - accuracy: 0.4836 - val_loss: 1.9464 - val_accuracy: 0.3626\n",
      "Epoch 4/10\n",
      "19/19 [==============================] - 0s 8ms/step - loss: 1.4849 - accuracy: 0.5584 - val_loss: 1.7404 - val_accuracy: 0.4697\n",
      "Epoch 5/10\n",
      "19/19 [==============================] - 0s 7ms/step - loss: 1.3411 - accuracy: 0.6100 - val_loss: 1.5552 - val_accuracy: 0.5536\n",
      "Epoch 6/10\n",
      "19/19 [==============================] - 0s 8ms/step - loss: 1.2272 - accuracy: 0.6483 - val_loss: 1.3952 - val_accuracy: 0.6196\n",
      "Epoch 7/10\n",
      "19/19 [==============================] - 0s 8ms/step - loss: 1.1331 - accuracy: 0.6822 - val_loss: 1.2601 - val_accuracy: 0.6647\n",
      "Epoch 8/10\n",
      "19/19 [==============================] - 0s 8ms/step - loss: 1.0523 - accuracy: 0.7076 - val_loss: 1.1467 - val_accuracy: 0.7017\n",
      "Epoch 9/10\n",
      "19/19 [==============================] - 0s 8ms/step - loss: 0.9820 - accuracy: 0.7291 - val_loss: 1.0517 - val_accuracy: 0.7330\n",
      "Epoch 10/10\n",
      "19/19 [==============================] - 0s 8ms/step - loss: 0.9221 - accuracy: 0.7475 - val_loss: 0.9724 - val_accuracy: 0.7536\n"
     ]
    },
    {
     "data": {
      "text/plain": [
       "<keras.src.callbacks.History at 0x2d23fde90>"
      ]
     },
     "execution_count": 19,
     "metadata": {},
     "output_type": "execute_result"
    }
   ],
   "source": [
    "init = tf.keras.initializers.he_uniform()\n",
    "activate = 'relu'\n",
    "\n",
    "optimizer = tf.keras.optimizers.SGD(0.01)\n",
    "model_bn = simple_model_bn(init, activate)\n",
    "model_bn.compile(optimizer=optimizer, loss='categorical_crossentropy', metrics=['accuracy'])\n",
    "model_bn.fit(X_train, y_train, epochs=10, batch_size=3200, validation_data = (X_test, y_test))"
   ]
  },
  {
   "cell_type": "code",
   "execution_count": 20,
   "metadata": {},
   "outputs": [
    {
     "name": "stderr",
     "output_type": "stream",
     "text": [
      "WARNING:absl:At this time, the v2.11+ optimizer `tf.keras.optimizers.Adagrad` runs slowly on M1/M2 Macs, please use the legacy Keras optimizer instead, located at `tf.keras.optimizers.legacy.Adagrad`.\n"
     ]
    },
    {
     "name": "stdout",
     "output_type": "stream",
     "text": [
      "Epoch 1/10\n"
     ]
    },
    {
     "name": "stderr",
     "output_type": "stream",
     "text": [
      "/Library/Frameworks/Python.framework/Versions/3.11/lib/python3.11/site-packages/keras/src/initializers/initializers.py:120: UserWarning: The initializer RandomUniform is unseeded and being called multiple times, which will return identical values each time (even if the initializer is unseeded). Please update your code to provide a seed to the initializer, or avoid using the same initializer instance more than once.\n",
      "  warnings.warn(\n"
     ]
    },
    {
     "name": "stdout",
     "output_type": "stream",
     "text": [
      "19/19 [==============================] - 1s 11ms/step - loss: 1.0822 - accuracy: 0.6692 - val_loss: 2.2980 - val_accuracy: 0.1988\n",
      "Epoch 2/10\n",
      "19/19 [==============================] - 0s 8ms/step - loss: 0.4817 - accuracy: 0.8709 - val_loss: 2.2921 - val_accuracy: 0.1931\n",
      "Epoch 3/10\n",
      "19/19 [==============================] - 0s 9ms/step - loss: 0.3685 - accuracy: 0.9032 - val_loss: 2.2843 - val_accuracy: 0.2512\n",
      "Epoch 4/10\n",
      "19/19 [==============================] - 0s 9ms/step - loss: 0.3134 - accuracy: 0.9177 - val_loss: 2.2747 - val_accuracy: 0.2924\n",
      "Epoch 5/10\n",
      "19/19 [==============================] - 0s 8ms/step - loss: 0.2763 - accuracy: 0.9279 - val_loss: 2.2623 - val_accuracy: 0.2965\n",
      "Epoch 6/10\n",
      "19/19 [==============================] - 0s 9ms/step - loss: 0.2495 - accuracy: 0.9344 - val_loss: 2.2455 - val_accuracy: 0.3402\n",
      "Epoch 7/10\n",
      "19/19 [==============================] - 0s 9ms/step - loss: 0.2284 - accuracy: 0.9403 - val_loss: 2.2240 - val_accuracy: 0.3835\n",
      "Epoch 8/10\n",
      "19/19 [==============================] - 0s 9ms/step - loss: 0.2112 - accuracy: 0.9452 - val_loss: 2.1946 - val_accuracy: 0.4552\n",
      "Epoch 9/10\n",
      "19/19 [==============================] - 0s 8ms/step - loss: 0.1976 - accuracy: 0.9493 - val_loss: 2.1576 - val_accuracy: 0.5055\n",
      "Epoch 10/10\n",
      "19/19 [==============================] - 0s 8ms/step - loss: 0.1844 - accuracy: 0.9528 - val_loss: 2.1098 - val_accuracy: 0.5682\n"
     ]
    },
    {
     "data": {
      "text/plain": [
       "<keras.src.callbacks.History at 0x2da80de90>"
      ]
     },
     "execution_count": 20,
     "metadata": {},
     "output_type": "execute_result"
    }
   ],
   "source": [
    "init = tf.keras.initializers.random_uniform()\n",
    "activate = 'relu'\n",
    "\n",
    "optimizer = tf.keras.optimizers.Adagrad(learning_rate=0.01)\n",
    "model_bn_ad = simple_model_bn(init, activate)\n",
    "model_bn_ad.compile(optimizer=optimizer, loss='categorical_crossentropy', metrics=['accuracy'])\n",
    "model_bn_ad.fit(X_train, y_train, epochs=10, batch_size=3200, validation_data = (X_test, y_test))"
   ]
  },
  {
   "cell_type": "code",
   "execution_count": 21,
   "metadata": {},
   "outputs": [
    {
     "name": "stderr",
     "output_type": "stream",
     "text": [
      "WARNING:absl:At this time, the v2.11+ optimizer `tf.keras.optimizers.Adam` runs slowly on M1/M2 Macs, please use the legacy Keras optimizer instead, located at `tf.keras.optimizers.legacy.Adam`.\n"
     ]
    },
    {
     "name": "stdout",
     "output_type": "stream",
     "text": [
      "Epoch 1/10\n",
      "19/19 [==============================] - 1s 13ms/step - loss: 0.8020 - accuracy: 0.7553 - val_loss: 2.0844 - val_accuracy: 0.3125\n",
      "Epoch 2/10\n",
      "19/19 [==============================] - 0s 8ms/step - loss: 0.2589 - accuracy: 0.9229 - val_loss: 1.8962 - val_accuracy: 0.3452\n",
      "Epoch 3/10\n",
      "19/19 [==============================] - 0s 8ms/step - loss: 0.1772 - accuracy: 0.9481 - val_loss: 1.7068 - val_accuracy: 0.4563\n",
      "Epoch 4/10\n",
      "19/19 [==============================] - 0s 8ms/step - loss: 0.1331 - accuracy: 0.9607 - val_loss: 1.5546 - val_accuracy: 0.5590\n",
      "Epoch 5/10\n",
      "19/19 [==============================] - 0s 8ms/step - loss: 0.1051 - accuracy: 0.9701 - val_loss: 1.3784 - val_accuracy: 0.6548\n",
      "Epoch 6/10\n",
      "19/19 [==============================] - 0s 8ms/step - loss: 0.0872 - accuracy: 0.9753 - val_loss: 1.2106 - val_accuracy: 0.7232\n",
      "Epoch 7/10\n",
      "19/19 [==============================] - 0s 8ms/step - loss: 0.0736 - accuracy: 0.9787 - val_loss: 1.0223 - val_accuracy: 0.7602\n",
      "Epoch 8/10\n",
      "19/19 [==============================] - 0s 8ms/step - loss: 0.0631 - accuracy: 0.9820 - val_loss: 0.7640 - val_accuracy: 0.8801\n",
      "Epoch 9/10\n",
      "19/19 [==============================] - 0s 8ms/step - loss: 0.0563 - accuracy: 0.9839 - val_loss: 0.6059 - val_accuracy: 0.8962\n",
      "Epoch 10/10\n",
      "19/19 [==============================] - 0s 8ms/step - loss: 0.0506 - accuracy: 0.9857 - val_loss: 0.4482 - val_accuracy: 0.9237\n"
     ]
    },
    {
     "data": {
      "text/plain": [
       "<keras.src.callbacks.History at 0x2d2e5ba90>"
      ]
     },
     "execution_count": 21,
     "metadata": {},
     "output_type": "execute_result"
    }
   ],
   "source": [
    "init = tf.keras.initializers.random_uniform()\n",
    "activate = 'relu'\n",
    "\n",
    "optimizer = tf.keras.optimizers.Adam(learning_rate=0.01)\n",
    "model_bn_adam = simple_model_bn(init, activate)\n",
    "model_bn_adam.compile(optimizer=optimizer, loss='categorical_crossentropy', metrics=['accuracy'])\n",
    "model_bn_adam.fit(X_train, y_train, epochs=10, batch_size=3200, validation_data = (X_test, y_test))"
   ]
  },
  {
   "cell_type": "code",
   "execution_count": 22,
   "metadata": {},
   "outputs": [],
   "source": [
    "from tensorflow.keras.callbacks import EarlyStopping"
   ]
  },
  {
   "cell_type": "code",
   "execution_count": 23,
   "metadata": {},
   "outputs": [
    {
     "name": "stderr",
     "output_type": "stream",
     "text": [
      "WARNING:absl:At this time, the v2.11+ optimizer `tf.keras.optimizers.Adam` runs slowly on M1/M2 Macs, please use the legacy Keras optimizer instead, located at `tf.keras.optimizers.legacy.Adam`.\n"
     ]
    },
    {
     "name": "stdout",
     "output_type": "stream",
     "text": [
      "Epoch 1/2000\n",
      "1875/1875 [==============================] - 2s 883us/step - loss: 0.3725 - accuracy: 0.8885 - val_loss: 0.1959 - val_accuracy: 0.9471\n",
      "Epoch 2/2000\n",
      "1875/1875 [==============================] - 2s 840us/step - loss: 0.2126 - accuracy: 0.9376 - val_loss: 0.2008 - val_accuracy: 0.9456\n",
      "Epoch 3/2000\n",
      "1875/1875 [==============================] - 2s 821us/step - loss: 0.1750 - accuracy: 0.9474 - val_loss: 0.1739 - val_accuracy: 0.9561\n",
      "Epoch 4/2000\n",
      "1875/1875 [==============================] - 2s 819us/step - loss: 0.1461 - accuracy: 0.9562 - val_loss: 0.1591 - val_accuracy: 0.9554\n",
      "Epoch 5/2000\n",
      "1875/1875 [==============================] - 2s 837us/step - loss: 0.1273 - accuracy: 0.9604 - val_loss: 0.1802 - val_accuracy: 0.9549\n",
      "Epoch 6/2000\n",
      "1875/1875 [==============================] - 1s 799us/step - loss: 0.1134 - accuracy: 0.9653 - val_loss: 0.1757 - val_accuracy: 0.9543\n",
      "Epoch 7/2000\n",
      "1875/1875 [==============================] - 1s 781us/step - loss: 0.1026 - accuracy: 0.9689 - val_loss: 0.1699 - val_accuracy: 0.9576\n",
      "Epoch 8/2000\n",
      "1875/1875 [==============================] - 1s 800us/step - loss: 0.0945 - accuracy: 0.9705 - val_loss: 0.2023 - val_accuracy: 0.9517\n",
      "Epoch 9/2000\n",
      "1875/1875 [==============================] - 2s 802us/step - loss: 0.0901 - accuracy: 0.9721 - val_loss: 0.1522 - val_accuracy: 0.9584\n",
      "Epoch 10/2000\n",
      "1875/1875 [==============================] - 2s 807us/step - loss: 0.0814 - accuracy: 0.9748 - val_loss: 0.1732 - val_accuracy: 0.9588\n",
      "Epoch 11/2000\n",
      "1875/1875 [==============================] - 2s 866us/step - loss: 0.0774 - accuracy: 0.9753 - val_loss: 0.1526 - val_accuracy: 0.9614\n",
      "Epoch 12/2000\n",
      "1875/1875 [==============================] - 2s 832us/step - loss: 0.0745 - accuracy: 0.9766 - val_loss: 0.1675 - val_accuracy: 0.9582\n",
      "Epoch 13/2000\n",
      "1875/1875 [==============================] - 1s 797us/step - loss: 0.0673 - accuracy: 0.9786 - val_loss: 0.1609 - val_accuracy: 0.9616\n",
      "Epoch 14/2000\n",
      "1875/1875 [==============================] - 2s 844us/step - loss: 0.0645 - accuracy: 0.9789 - val_loss: 0.1517 - val_accuracy: 0.9618\n",
      "Epoch 15/2000\n",
      "1875/1875 [==============================] - 2s 828us/step - loss: 0.0639 - accuracy: 0.9797 - val_loss: 0.1735 - val_accuracy: 0.9615\n",
      "Epoch 16/2000\n",
      "1875/1875 [==============================] - 2s 854us/step - loss: 0.0589 - accuracy: 0.9808 - val_loss: 0.1848 - val_accuracy: 0.9617\n",
      "Epoch 17/2000\n",
      "1875/1875 [==============================] - 2s 828us/step - loss: 0.0579 - accuracy: 0.9812 - val_loss: 0.1872 - val_accuracy: 0.9597\n",
      "Epoch 18/2000\n",
      "1875/1875 [==============================] - 2s 832us/step - loss: 0.0561 - accuracy: 0.9820 - val_loss: 0.2088 - val_accuracy: 0.9625\n",
      "Epoch 19/2000\n",
      "1875/1875 [==============================] - 2s 811us/step - loss: 0.0535 - accuracy: 0.9826 - val_loss: 0.1924 - val_accuracy: 0.9574\n",
      "Epoch 20/2000\n",
      "1875/1875 [==============================] - 2s 869us/step - loss: 0.0515 - accuracy: 0.9838 - val_loss: 0.1735 - val_accuracy: 0.9630\n",
      "Epoch 21/2000\n",
      "1875/1875 [==============================] - 2s 834us/step - loss: 0.0483 - accuracy: 0.9842 - val_loss: 0.1723 - val_accuracy: 0.9637\n",
      "Epoch 22/2000\n",
      "1875/1875 [==============================] - 2s 843us/step - loss: 0.0474 - accuracy: 0.9848 - val_loss: 0.2570 - val_accuracy: 0.9618\n",
      "Epoch 23/2000\n",
      "1875/1875 [==============================] - 2s 863us/step - loss: 0.0471 - accuracy: 0.9852 - val_loss: 0.1930 - val_accuracy: 0.9594\n",
      "Epoch 24/2000\n",
      "1869/1875 [============================>.] - ETA: 0s - loss: 0.0463 - accuracy: 0.9853Restoring model weights from the end of the best epoch: 14.\n",
      "1875/1875 [==============================] - 2s 875us/step - loss: 0.0462 - accuracy: 0.9854 - val_loss: 0.2518 - val_accuracy: 0.9602\n",
      "Epoch 24: early stopping\n",
      "Train Acc: 0.9914833307266235 Test Acc: 0.9617999792098999\n"
     ]
    }
   ],
   "source": [
    "init = tf.keras.initializers.random_uniform()\n",
    "activate = 'relu'\n",
    "\n",
    "optimizer = tf.keras.optimizers.Adam(learning_rate=0.01)\n",
    "model_bn_adam = simple_model_bn(init, activate)\n",
    "model_bn_adam.compile(optimizer=optimizer, loss='categorical_crossentropy', metrics=['accuracy'])\n",
    "\n",
    "es = EarlyStopping(monitor='val_loss', mode='min', patience=10, restore_best_weights=True, verbose=1)\n",
    "\n",
    "history = model_bn_adam.fit(X_train, y_train, epochs=2000, callbacks=[es], validation_data = (X_test, y_test), verbose=1)\n",
    "\n",
    "_, train_acc = model_bn_adam.evaluate(X_train, y_train, verbose=0)\n",
    "_, test_acc = model_bn_adam.evaluate(X_test, y_test, verbose=0)\n",
    "print('Train Acc:', train_acc, 'Test Acc:', test_acc)"
   ]
  },
  {
   "cell_type": "code",
   "execution_count": null,
   "metadata": {},
   "outputs": [],
   "source": []
  }
 ],
 "metadata": {
  "kernelspec": {
   "display_name": "Python 3",
   "language": "python",
   "name": "python3"
  },
  "language_info": {
   "codemirror_mode": {
    "name": "ipython",
    "version": 3
   },
   "file_extension": ".py",
   "mimetype": "text/x-python",
   "name": "python",
   "nbconvert_exporter": "python",
   "pygments_lexer": "ipython3",
   "version": "3.11.3"
  },
  "orig_nbformat": 4
 },
 "nbformat": 4,
 "nbformat_minor": 2
}
